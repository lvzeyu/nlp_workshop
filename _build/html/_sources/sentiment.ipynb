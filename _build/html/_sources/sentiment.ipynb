{
 "cells": [
  {
   "cell_type": "markdown",
   "metadata": {},
   "source": [
    "# センチメント分析の実装"
   ]
  },
  {
   "cell_type": "markdown",
   "metadata": {},
   "source": [
    "## 環境配置\n",
    "\n",
    "```\n",
    "conda create -n nlp_workshop\n",
    "sudo apt install python3-pip\n",
    "pip install -r requirements.txt\n",
    "```\n",
    "```\n",
    "!pip install transformers\n",
    "!pip install datasets\n",
    "!pip install fugashi\n",
    "!pip install ipadic\n",
    "!pip install torch\n",
    "!pip install accelerate -U\n",
    "!pip install pytorch_pretrained_bert\n",
    "!pip install scikit-learn\n",
    "```"
   ]
  },
  {
   "cell_type": "markdown",
   "metadata": {},
   "source": [
    "## サンプルデータ\n",
    "\n",
    "### サンプルデータの取得\n",
    "\n",
    "Hugging Faceのには色々なデータセットが用意されております。例として、多言語のセンチメントデータセットのうち、日本語のサブセットを使用します。\n",
    "\n",
    "以下を実行しデータセットを取得します。"
   ]
  },
  {
   "cell_type": "code",
   "execution_count": 1,
   "metadata": {},
   "outputs": [
    {
     "name": "stderr",
     "output_type": "stream",
     "text": [
      "/home/lyuzeyu/anaconda3/envs/nlp_workshop/lib/python3.10/site-packages/tqdm/auto.py:21: TqdmWarning: IProgress not found. Please update jupyter and ipywidgets. See https://ipywidgets.readthedocs.io/en/stable/user_install.html\n",
      "  from .autonotebook import tqdm as notebook_tqdm\n"
     ]
    }
   ],
   "source": [
    "from datasets import load_dataset\n",
    "dataset = load_dataset(\"tyqiangz/multilingual-sentiments\", \"japanese\")"
   ]
  },
  {
   "cell_type": "markdown",
   "metadata": {},
   "source": [
    "### サンプルデータの確認"
   ]
  },
  {
   "cell_type": "markdown",
   "metadata": {},
   "source": [
    "取得したデータセットの中身を確認します。\n",
    "\n",
    "- データセットはこのようにtrain, validation, testに分かれています。\n",
    "- ['text', 'source', 'label']といった情報を持っています。"
   ]
  },
  {
   "cell_type": "code",
   "execution_count": 2,
   "metadata": {},
   "outputs": [
    {
     "data": {
      "text/plain": [
       "DatasetDict({\n",
       "    train: Dataset({\n",
       "        features: ['text', 'source', 'label'],\n",
       "        num_rows: 120000\n",
       "    })\n",
       "    validation: Dataset({\n",
       "        features: ['text', 'source', 'label'],\n",
       "        num_rows: 3000\n",
       "    })\n",
       "    test: Dataset({\n",
       "        features: ['text', 'source', 'label'],\n",
       "        num_rows: 3000\n",
       "    })\n",
       "})"
      ]
     },
     "execution_count": 2,
     "metadata": {},
     "output_type": "execute_result"
    }
   ],
   "source": [
    "dataset"
   ]
  },
  {
   "cell_type": "code",
   "execution_count": 3,
   "metadata": {},
   "outputs": [
    {
     "data": {
      "text/html": [
       "<div>\n",
       "<style scoped>\n",
       "    .dataframe tbody tr th:only-of-type {\n",
       "        vertical-align: middle;\n",
       "    }\n",
       "\n",
       "    .dataframe tbody tr th {\n",
       "        vertical-align: top;\n",
       "    }\n",
       "\n",
       "    .dataframe thead th {\n",
       "        text-align: right;\n",
       "    }\n",
       "</style>\n",
       "<table border=\"1\" class=\"dataframe\">\n",
       "  <thead>\n",
       "    <tr style=\"text-align: right;\">\n",
       "      <th></th>\n",
       "      <th>text</th>\n",
       "      <th>source</th>\n",
       "      <th>label</th>\n",
       "    </tr>\n",
       "  </thead>\n",
       "  <tbody>\n",
       "    <tr>\n",
       "      <th>0</th>\n",
       "      <td>普段使いとバイクに乗るときのブーツ兼用として購入しました。見た目や履き心地は良いです。 しか...</td>\n",
       "      <td>amazon_reviews_multi</td>\n",
       "      <td>2</td>\n",
       "    </tr>\n",
       "    <tr>\n",
       "      <th>1</th>\n",
       "      <td>十分な在庫を用意できない販売元も悪いですが、Amazonやら楽⚪︎が転売を認めちゃってるのが...</td>\n",
       "      <td>amazon_reviews_multi</td>\n",
       "      <td>2</td>\n",
       "    </tr>\n",
       "    <tr>\n",
       "      <th>2</th>\n",
       "      <td>見た目はかなりおしゃれで気に入りました。2、3回持ち歩いた後いつも通りゼンマイを巻いていたら...</td>\n",
       "      <td>amazon_reviews_multi</td>\n",
       "      <td>2</td>\n",
       "    </tr>\n",
       "    <tr>\n",
       "      <th>3</th>\n",
       "      <td>よくある部分での断線はしませんでした ただiphoneとの接続部で接触不良、折れました ip...</td>\n",
       "      <td>amazon_reviews_multi</td>\n",
       "      <td>2</td>\n",
       "    </tr>\n",
       "    <tr>\n",
       "      <th>4</th>\n",
       "      <td>プラモデルの塗装剥離に使う為に購入 届いて早速使ってみた 結果 １ヶ月経っても未だに剥離出来...</td>\n",
       "      <td>amazon_reviews_multi</td>\n",
       "      <td>2</td>\n",
       "    </tr>\n",
       "  </tbody>\n",
       "</table>\n",
       "</div>"
      ],
      "text/plain": [
       "                                                text                source  \\\n",
       "0  普段使いとバイクに乗るときのブーツ兼用として購入しました。見た目や履き心地は良いです。 しか...  amazon_reviews_multi   \n",
       "1  十分な在庫を用意できない販売元も悪いですが、Amazonやら楽⚪︎が転売を認めちゃってるのが...  amazon_reviews_multi   \n",
       "2  見た目はかなりおしゃれで気に入りました。2、3回持ち歩いた後いつも通りゼンマイを巻いていたら...  amazon_reviews_multi   \n",
       "3  よくある部分での断線はしませんでした ただiphoneとの接続部で接触不良、折れました ip...  amazon_reviews_multi   \n",
       "4  プラモデルの塗装剥離に使う為に購入 届いて早速使ってみた 結果 １ヶ月経っても未だに剥離出来...  amazon_reviews_multi   \n",
       "\n",
       "   label  \n",
       "0      2  \n",
       "1      2  \n",
       "2      2  \n",
       "3      2  \n",
       "4      2  "
      ]
     },
     "execution_count": 3,
     "metadata": {},
     "output_type": "execute_result"
    }
   ],
   "source": [
    "dataset.set_format(type=\"pandas\")\n",
    "train_df = dataset[\"train\"][:]\n",
    "train_df.head(5)"
   ]
  },
  {
   "cell_type": "markdown",
   "metadata": {},
   "source": [
    "各ラベルの意味につい確認すると、$0$,$1$,$2$がそれぞれ'positive','neutral','negative'に割り当てられていることが分かります。\n",
    "\n",
    "ラベルの内訳も確認します。"
   ]
  },
  {
   "cell_type": "code",
   "execution_count": 4,
   "metadata": {},
   "outputs": [
    {
     "data": {
      "text/plain": [
       "{'text': Value(dtype='string', id=None),\n",
       " 'source': Value(dtype='string', id=None),\n",
       " 'label': ClassLabel(names=['positive', 'neutral', 'negative'], id=None)}"
      ]
     },
     "execution_count": 4,
     "metadata": {},
     "output_type": "execute_result"
    }
   ],
   "source": [
    "dataset[\"train\"].features"
   ]
  },
  {
   "cell_type": "code",
   "execution_count": 5,
   "metadata": {},
   "outputs": [
    {
     "data": {
      "text/plain": [
       "<Axes: title={'center': 'Train Dataset'}, ylabel='label'>"
      ]
     },
     "execution_count": 5,
     "metadata": {},
     "output_type": "execute_result"
    },
    {
     "data": {
      "image/png": "[encoded data removed]",
      "text/plain": [
       "<Figure size 640x480 with 1 Axes>"
      ]
     },
     "metadata": {},
     "output_type": "display_data"
    }
   ],
   "source": [
    "import matplotlib.pyplot as plt\n",
    "train_df[\"label\"].value_counts(ascending=True).plot(kind=\"barh\", title=\"Train Dataset\")"
   ]
  },
  {
   "cell_type": "markdown",
   "metadata": {},
   "source": [
    "### テキストの確認\n",
    "\n",
    "Transformerモデルは、最大コンテキストサイズ(maximum context size)と呼ばれる最大入力系列長があります。\n",
    "\n",
    "モデルのコンテキストサイズより長いテキストは切り捨てる必要があり、切り捨てたテキストに重要な情報が含まれている場合、性能の低下につながることがあります。"
   ]
  },
  {
   "cell_type": "code",
   "execution_count": 6,
   "metadata": {},
   "outputs": [],
   "source": [
    "train_df[\"text_length\"]=train_df[\"text\"].str.len()"
   ]
  },
  {
   "cell_type": "code",
   "execution_count": 7,
   "metadata": {},
   "outputs": [
    {
     "data": {
      "text/plain": [
       "<Axes: title={'center': 'text_length'}, xlabel='label'>"
      ]
     },
     "execution_count": 7,
     "metadata": {},
     "output_type": "execute_result"
    },
    {
     "data": {
      "image/png": "[encoded data removed]",
      "text/plain": [
       "<Figure size 1200x600 with 1 Axes>"
      ]
     },
     "metadata": {},
     "output_type": "display_data"
    }
   ],
   "source": [
    "train_df.boxplot(column=\"text_length\", by=\"label\", figsize=(12, 6))"
   ]
  },
  {
   "cell_type": "markdown",
   "metadata": {},
   "source": [
    "## トークン化\n",
    "コンピュータは、入力として生の文字列を受け取ることができません。その代わりに、テキストがトークン化され、数値ベクトルとしてエンコードされていることが想定しています。\n",
    "\n",
    "トークン化は、文字列をモデルで使用される最小単位に分解するステップです。\n",
    "\n",
    "Transformerライブラリー は便利な```AutoTokenizer```クラスを提供しており、事前学習済みモデルに関連つけられたトークナイザーを素早く使用することができます。"
   ]
  },
  {
   "cell_type": "markdown",
   "metadata": {},
   "source": [
    "## トークナイザの動作確認"
   ]
  },
  {
   "cell_type": "code",
   "execution_count": 8,
   "metadata": {},
   "outputs": [],
   "source": [
    "from transformers import AutoTokenizer\n",
    "model_ckpt = \"cl-tohoku/bert-base-japanese-whole-word-masking\"\n",
    "tokenizer = AutoTokenizer.from_pretrained(model_ckpt)"
   ]
  },
  {
   "cell_type": "markdown",
   "metadata": {},
   "source": [
    "トークナイザを動かしてみましょう。"
   ]
  },
  {
   "cell_type": "code",
   "execution_count": 9,
   "metadata": {},
   "outputs": [
    {
     "name": "stdout",
     "output_type": "stream",
     "text": [
      "普段使いとバイクに乗るときのブーツ兼用として購入しました\n",
      "見た目や履き心地は良いです\n",
      " しかし、２ヶ月履いたらゴム底が削れて無くなりました\n",
      "また、バイクのシフトペダルとの摩擦で表皮が剥がれ、本革でないことが露呈しました\n",
      "ちなみに防水とも書いていますが、雨の日は内部に水が染みます\n",
      " 安くて見た目も良く、履きやすかったのですが、耐久性のなさ、本革でも防水でも無かったことが残念です\n",
      "結局、本革の防水ブーツを買い直しました\n",
      "\n"
     ]
    }
   ],
   "source": [
    "for line in train_df[\"text\"][0].split('。'):\n",
    "    print(line)"
   ]
  },
  {
   "cell_type": "code",
   "execution_count": 10,
   "metadata": {},
   "outputs": [
    {
     "data": {
      "text/plain": [
       "{'input_ids': [2, 9406, 3276, 13, 10602, 7, 11838, 900, 5, 20806, 23540, 50, 2630, 15, 3913, 10, 8, 16493, 49, 6934, 28512, 18166, 9, 3614, 2992, 8, 373, 6, 25, 2779, 26909, 3318, 9007, 5366, 14, 3346, 28461, 16, 27430, 3913, 10, 8, 106, 6, 10602, 5, 10334, 22757, 13, 5, 13245, 12, 311, 29742, 14, 7520, 13468, 6, 108, 1869, 12, 80, 45, 14, 3438, 30294, 15, 3913, 10, 8, 5501, 25997, 981, 2977, 16, 21, 2610, 14, 6, 3741, 5, 32, 9, 2804, 7, 326, 14, 4896, 28614, 2610, 8, 18002, 16, 16493, 28, 5735, 6, 6934, 28512, 2076, 187, 10, 5, 2992, 14, 6, 10284, 245, 5, 18, 26, 6, 108, 1869, 12, 28, 25997, 12, 28, 6013, 10, 45, 14, 25267, 2992, 8, 3351, 6, 108, 1869, 5, 25997, 20806, 11, 5098, 13153, 3913, 10, 8, 3], 'token_type_ids': [0, 0, 0, 0, 0, 0, 0, 0, 0, 0, 0, 0, 0, 0, 0, 0, 0, 0, 0, 0, 0, 0, 0, 0, 0, 0, 0, 0, 0, 0, 0, 0, 0, 0, 0, 0, 0, 0, 0, 0, 0, 0, 0, 0, 0, 0, 0, 0, 0, 0, 0, 0, 0, 0, 0, 0, 0, 0, 0, 0, 0, 0, 0, 0, 0, 0, 0, 0, 0, 0, 0, 0, 0, 0, 0, 0, 0, 0, 0, 0, 0, 0, 0, 0, 0, 0, 0, 0, 0, 0, 0, 0, 0, 0, 0, 0, 0, 0, 0, 0, 0, 0, 0, 0, 0, 0, 0, 0, 0, 0, 0, 0, 0, 0, 0, 0, 0, 0, 0, 0, 0, 0, 0, 0, 0, 0, 0, 0, 0, 0, 0, 0, 0, 0, 0, 0, 0, 0, 0, 0], 'attention_mask': [1, 1, 1, 1, 1, 1, 1, 1, 1, 1, 1, 1, 1, 1, 1, 1, 1, 1, 1, 1, 1, 1, 1, 1, 1, 1, 1, 1, 1, 1, 1, 1, 1, 1, 1, 1, 1, 1, 1, 1, 1, 1, 1, 1, 1, 1, 1, 1, 1, 1, 1, 1, 1, 1, 1, 1, 1, 1, 1, 1, 1, 1, 1, 1, 1, 1, 1, 1, 1, 1, 1, 1, 1, 1, 1, 1, 1, 1, 1, 1, 1, 1, 1, 1, 1, 1, 1, 1, 1, 1, 1, 1, 1, 1, 1, 1, 1, 1, 1, 1, 1, 1, 1, 1, 1, 1, 1, 1, 1, 1, 1, 1, 1, 1, 1, 1, 1, 1, 1, 1, 1, 1, 1, 1, 1, 1, 1, 1, 1, 1, 1, 1, 1, 1, 1, 1, 1, 1, 1, 1]}"
      ]
     },
     "execution_count": 10,
     "metadata": {},
     "output_type": "execute_result"
    }
   ],
   "source": [
    "sample_text_encoded = tokenizer(train_df[\"text\"][0])\n",
    "sample_text_encoded"
   ]
  },
  {
   "cell_type": "markdown",
   "metadata": {},
   "source": [
    "結果に```input_ids```と```attention_mask```が含まれます。\n",
    "- input_ids: 数字にエンコードされたトークン\n",
    "- attention_mask: モデルで有効なトークンかどうかを判別するためのマスクです。無効なトークン（例えば、PADなど）に対しては、attention_maskを$0$として処理します。"
   ]
  },
  {
   "cell_type": "markdown",
   "metadata": {},
   "source": [
    "トークナイザの結果は数字にエンコードされているため、トークン文字列を得るには、```convert_ids_to_tokens```を用います。"
   ]
  },
  {
   "cell_type": "code",
   "execution_count": 11,
   "metadata": {},
   "outputs": [
    {
     "name": "stdout",
     "output_type": "stream",
     "text": [
      "['[CLS]', '普段', '使い', 'と', 'バイク', 'に', '乗る', 'とき', 'の', 'ブーツ', '兼用', 'として', '購入', 'し', 'まし', 'た', '。', '見た目', 'や', '履', '##き', '心地', 'は', '良い', 'です', '。', 'しかし', '、', '2', 'ヶ月', '履い', 'たら', 'ゴム', '底', 'が', '削', '##れ', 'て', '無くなり', 'まし', 'た', '。', 'また', '、', 'バイク', 'の', 'シフト', 'ペダル', 'と', 'の', '摩擦', 'で', '表', '##皮', 'が', '剥', '##がれ', '、', '本', '革', 'で', 'ない', 'こと', 'が', '露', '##呈', 'し', 'まし', 'た', '。', 'ちなみに', '防水', 'とも', '書い', 'て', 'い', 'ます', 'が', '、', '雨', 'の', '日', 'は', '内部', 'に', '水', 'が', '染', '##み', 'ます', '。', '安く', 'て', '見た目', 'も', '良く', '、', '履', '##き', 'やす', '##かっ', 'た', 'の', 'です', 'が', '、', '耐久', '性', 'の', 'な', 'さ', '、', '本', '革', 'で', 'も', '防水', 'で', 'も', '無かっ', 'た', 'こと', 'が', '残念', 'です', '。', '結局', '、', '本', '革', 'の', '防水', 'ブーツ', 'を', '買い', '直し', 'まし', 'た', '。', '[SEP]']\n"
     ]
    }
   ],
   "source": [
    "tokens = tokenizer.convert_ids_to_tokens(sample_text_encoded.input_ids)\n",
    "print(tokens)"
   ]
  },
  {
   "cell_type": "markdown",
   "metadata": {},
   "source": [
    "文の開始が[CLS]、文の終了が[SEP]という特殊なトークンとなっています。"
   ]
  },
  {
   "cell_type": "markdown",
   "metadata": {},
   "source": [
    "## データセット全体のトークン化"
   ]
  },
  {
   "cell_type": "markdown",
   "metadata": {},
   "source": [
    "教師データのサイズが大きいのため、学習するのはかなり時間がかかりますので、ここでは一部の教師データしか使わない。"
   ]
  },
  {
   "cell_type": "code",
   "execution_count": 12,
   "metadata": {},
   "outputs": [],
   "source": [
    "def tokenize(batch):\n",
    "    return tokenizer(batch[\"text\"], padding=True, truncation=True)"
   ]
  },
  {
   "cell_type": "code",
   "execution_count": 13,
   "metadata": {},
   "outputs": [],
   "source": [
    "dataset.reset_format()"
   ]
  },
  {
   "cell_type": "code",
   "execution_count": 14,
   "metadata": {},
   "outputs": [],
   "source": [
    "shuffled_train_data = dataset['train'].shuffle(seed=42)\n",
    "# Define the size of the subset you want to obtain, e.g., 10%\n",
    "subset_size = int(0.1 * len(shuffled_train_data))\n",
    "# Extract the subset\n",
    "subset = shuffled_train_data.select(range(subset_size))"
   ]
  },
  {
   "cell_type": "code",
   "execution_count": 15,
   "metadata": {},
   "outputs": [],
   "source": [
    "dataset[\"train\"]=subset"
   ]
  },
  {
   "cell_type": "code",
   "execution_count": 16,
   "metadata": {},
   "outputs": [],
   "source": [
    "dataset_encoded = dataset.map(tokenize, batched=True, batch_size=None)"
   ]
  },
  {
   "cell_type": "code",
   "execution_count": 17,
   "metadata": {},
   "outputs": [
    {
     "data": {
      "text/html": [
       "<div>\n",
       "<style scoped>\n",
       "    .dataframe tbody tr th:only-of-type {\n",
       "        vertical-align: middle;\n",
       "    }\n",
       "\n",
       "    .dataframe tbody tr th {\n",
       "        vertical-align: top;\n",
       "    }\n",
       "\n",
       "    .dataframe thead th {\n",
       "        text-align: right;\n",
       "    }\n",
       "</style>\n",
       "<table border=\"1\" class=\"dataframe\">\n",
       "  <thead>\n",
       "    <tr style=\"text-align: right;\">\n",
       "      <th></th>\n",
       "      <th>input_ids</th>\n",
       "      <th>attention_mask</th>\n",
       "      <th>tokens</th>\n",
       "    </tr>\n",
       "  </thead>\n",
       "  <tbody>\n",
       "    <tr>\n",
       "      <th>0</th>\n",
       "      <td>2</td>\n",
       "      <td>1</td>\n",
       "      <td>[CLS]</td>\n",
       "    </tr>\n",
       "    <tr>\n",
       "      <th>1</th>\n",
       "      <td>57</td>\n",
       "      <td>1</td>\n",
       "      <td>4</td>\n",
       "    </tr>\n",
       "    <tr>\n",
       "      <th>2</th>\n",
       "      <td>181</td>\n",
       "      <td>1</td>\n",
       "      <td>つ</td>\n",
       "    </tr>\n",
       "    <tr>\n",
       "      <th>3</th>\n",
       "      <td>2630</td>\n",
       "      <td>1</td>\n",
       "      <td>購入</td>\n",
       "    </tr>\n",
       "    <tr>\n",
       "      <th>4</th>\n",
       "      <td>15</td>\n",
       "      <td>1</td>\n",
       "      <td>し</td>\n",
       "    </tr>\n",
       "    <tr>\n",
       "      <th>...</th>\n",
       "      <td>...</td>\n",
       "      <td>...</td>\n",
       "      <td>...</td>\n",
       "    </tr>\n",
       "    <tr>\n",
       "      <th>507</th>\n",
       "      <td>0</td>\n",
       "      <td>0</td>\n",
       "      <td>[PAD]</td>\n",
       "    </tr>\n",
       "    <tr>\n",
       "      <th>508</th>\n",
       "      <td>0</td>\n",
       "      <td>0</td>\n",
       "      <td>[PAD]</td>\n",
       "    </tr>\n",
       "    <tr>\n",
       "      <th>509</th>\n",
       "      <td>0</td>\n",
       "      <td>0</td>\n",
       "      <td>[PAD]</td>\n",
       "    </tr>\n",
       "    <tr>\n",
       "      <th>510</th>\n",
       "      <td>0</td>\n",
       "      <td>0</td>\n",
       "      <td>[PAD]</td>\n",
       "    </tr>\n",
       "    <tr>\n",
       "      <th>511</th>\n",
       "      <td>0</td>\n",
       "      <td>0</td>\n",
       "      <td>[PAD]</td>\n",
       "    </tr>\n",
       "  </tbody>\n",
       "</table>\n",
       "<p>512 rows × 3 columns</p>\n",
       "</div>"
      ],
      "text/plain": [
       "    input_ids attention_mask tokens\n",
       "0           2              1  [CLS]\n",
       "1          57              1      4\n",
       "2         181              1      つ\n",
       "3        2630              1     購入\n",
       "4          15              1      し\n",
       "..        ...            ...    ...\n",
       "507         0              0  [PAD]\n",
       "508         0              0  [PAD]\n",
       "509         0              0  [PAD]\n",
       "510         0              0  [PAD]\n",
       "511         0              0  [PAD]\n",
       "\n",
       "[512 rows x 3 columns]"
      ]
     },
     "execution_count": 17,
     "metadata": {},
     "output_type": "execute_result"
    }
   ],
   "source": [
    "import pandas as pd\n",
    "sample_encoded = dataset_encoded[\"train\"][0]\n",
    "pd.DataFrame(\n",
    "    [sample_encoded[\"input_ids\"]\n",
    "     , sample_encoded[\"attention_mask\"]\n",
    "     , tokenizer.convert_ids_to_tokens(sample_encoded[\"input_ids\"])],\n",
    "    ['input_ids', 'attention_mask', \"tokens\"]\n",
    ").T"
   ]
  },
  {
   "cell_type": "markdown",
   "metadata": {},
   "source": [
    "## 分類器の実装\n",
    "\n",
    "### 事前学習モデルの導入\n",
    "\n",
    "Transformerライブラリは事前学習モデルの使用ため```AutoModel```クラスを提供します。\n",
    "\n",
    "```AutoModel```クラスはトークンエンコーディングを埋め込みに変換し、エンコーダスタックを経由して**最後の**隠れ状態を返します。\n",
    "\n",
    "特に、```AutoModelForSequenceClassification```はテキスト分類専用のクラスになります。\n",
    "\n",
    "\n",
    "```{margin}\n",
    "深層学習は大量の行列計算を伴うため、大量の行列計算や浮動小数点の演算を同時に高速に処理できるGPUが必要されます。PyTorchはGPUをサポートしております。\n",
    "```"
   ]
  },
  {
   "cell_type": "markdown",
   "metadata": {},
   "source": [
    "### 特徴抽出器としてのTansformer\n",
    "\n",
    "先述したように、特徴抽出の際、事前学習済みモデルのパラメータを凍結し、隠れ状態を分類器の特徴として利用します。\n",
    "\n",
    "ここでは、テキストからどのように「状態」を抽出するか確認してみましょう。"
   ]
  },
  {
   "cell_type": "code",
   "execution_count": 18,
   "metadata": {},
   "outputs": [],
   "source": [
    "import torch\n",
    "from transformers import AutoModel\n",
    "\n",
    "# GPUある場合はGPUを使う\n",
    "device = torch.device(\"cuda\" if torch.cuda.is_available() else \"cpu\")\n",
    "model = AutoModel.from_pretrained(model_ckpt).to(device)"
   ]
  },
  {
   "cell_type": "markdown",
   "metadata": {},
   "source": [
    "最初に、文字列をエンコーダしてトークンをPyTorchのテンソルに変換する必要があります。\n",
    "\n",
    "結果として得られるテンソルは```[batch_size,n_tokens]```という形状です。"
   ]
  },
  {
   "cell_type": "code",
   "execution_count": 19,
   "metadata": {},
   "outputs": [
    {
     "name": "stdout",
     "output_type": "stream",
     "text": [
      "Input tensor shape: torch.Size([1, 17])\n"
     ]
    }
   ],
   "source": [
    "inputs = tokenizer(\"普段使いとバイクに乗るときのブーツ兼用として購入しました\", return_tensors=\"pt\") # pytorch tensorに変換するためにreturn_tensors=\"pt\"を指定\n",
    "print(f\"Input tensor shape: {inputs['input_ids'].shape}\")"
   ]
  },
  {
   "cell_type": "markdown",
   "metadata": {},
   "source": [
    "得られるテンソルをモデルの入力として渡します。\n",
    "\n",
    "- モデルと同じデバイス(GPU or CPU)に設置します。\n",
    "- 計算のメモリを減らせるため、```torch.no_grad()```で、勾配の自動計算を無効します。\n",
    "- 出力には隠れ状態、損失、アテンションのオブジェクトが含まれます。"
   ]
  },
  {
   "cell_type": "code",
   "execution_count": 20,
   "metadata": {},
   "outputs": [
    {
     "name": "stdout",
     "output_type": "stream",
     "text": [
      "BaseModelOutputWithPoolingAndCrossAttentions(last_hidden_state=tensor([[[-0.0847,  0.1351, -0.4395,  ..., -0.4982, -0.6514, -0.1812],\n",
      "         [ 0.4598,  0.2293,  0.4841,  ..., -0.0054, -0.3884,  0.1130],\n",
      "         [-0.3693,  0.2047, -0.1484,  ...,  0.8140, -0.5375,  0.2806],\n",
      "         ...,\n",
      "         [-0.0969, -0.1981,  0.0768,  ..., -0.6792, -0.8054, -0.2304],\n",
      "         [-0.2894,  0.4070, -0.1595,  ..., -0.5203, -0.5699,  0.0417],\n",
      "         [-0.4710,  0.2821, -0.6042,  ..., -0.7786,  0.1858,  0.4220]]],\n",
      "       device='cuda:0'), pooler_output=tensor([[-0.6927, -0.0295, -0.1822, -0.2144,  0.1109,  0.9984, -0.1162, -0.1416,\n",
      "         -0.4032,  0.2412, -0.5233,  0.0353, -0.1194,  0.4348, -0.1704, -0.0522,\n",
      "          0.3496,  0.1107,  0.3005,  0.4705,  0.2974,  0.2746, -0.3991,  0.9181,\n",
      "          0.9999, -0.1110,  0.4712, -0.4118,  0.9997,  0.8054, -0.8208,  0.6063,\n",
      "         -0.1102,  0.4874,  0.3033,  0.0817,  0.3873, -0.3044, -0.1805,  0.0040,\n",
      "         -0.2526, -0.9986, -0.5488,  0.1878,  0.8630, -0.1465,  0.3296, -0.0738,\n",
      "          0.2411, -0.1666, -0.0074, -0.9318,  0.3535, -1.0000, -0.1380,  0.0230,\n",
      "         -0.0388, -0.3269, -0.4060,  0.8335,  0.9801,  0.9810,  0.2134,  0.4827,\n",
      "         -0.1189,  0.3543,  0.0271,  0.2525, -0.2036,  0.9700, -0.3991,  0.3111,\n",
      "         -0.1952,  0.3861,  0.2520, -0.0773,  0.9991, -0.2477,  0.5794,  0.1457,\n",
      "         -0.9651,  0.1088, -0.2396,  0.3358, -0.9804,  0.3841, -0.3508, -0.9078,\n",
      "         -0.0669,  0.8357,  0.3222, -0.9854, -0.0054, -0.1114, -0.3614,  0.1300,\n",
      "         -0.0294,  0.5134, -0.1713,  0.3719,  0.5120,  0.3396, -0.2546, -0.0502,\n",
      "          0.2817,  0.3161, -0.3300,  0.1138, -0.4520,  0.2893,  0.0358, -0.4225,\n",
      "         -0.2481,  0.0575, -0.0693, -0.1615, -0.2284, -0.0144, -0.1649,  0.3037,\n",
      "          0.1274, -0.1724,  0.2603, -0.2085, -0.9759, -0.9997, -0.3886, -0.1235,\n",
      "          0.4380, -0.3623,  0.0751,  0.0190,  0.0688, -0.0225, -0.2510, -0.2897,\n",
      "          0.2137,  0.1473,  0.1002,  0.4464, -0.4578,  0.9340,  0.2989,  0.2132,\n",
      "         -0.9998,  0.2729,  0.2273,  0.1139, -0.0555,  0.2499, -0.3300,  0.0276,\n",
      "          0.0496, -0.2926, -0.0470,  0.4303, -0.5139,  0.0564, -0.0214, -0.2855,\n",
      "         -0.4448, -0.1472, -0.1856, -0.4987, -0.1770, -0.0490, -0.0662,  0.5385,\n",
      "          0.9973,  0.8412,  0.0486,  0.8002,  0.1535, -0.8492,  0.1233,  0.4598,\n",
      "          0.0305,  0.0997,  0.3172,  0.2970, -0.3180,  0.3115,  0.5462, -0.1138,\n",
      "         -0.2239,  0.0833, -0.1717, -0.3981, -0.9788, -0.3960,  0.3823,  0.6812,\n",
      "          0.0461, -0.1201, -0.2163, -0.0892, -0.1594,  0.3204,  0.2186,  0.9579,\n",
      "         -0.9803,  0.0681, -0.0109,  0.2642, -0.3340, -0.1600, -0.9881,  0.5563,\n",
      "         -0.3445, -0.0424, -0.5417, -0.2405, -0.5805,  0.9687,  0.9917, -0.0311,\n",
      "         -0.3275,  0.0360,  0.2920, -0.1643, -0.0796,  0.3886,  0.5621,  0.1660,\n",
      "          0.0079, -0.0710, -0.2579,  0.6055,  0.0045,  0.9752,  0.9980, -0.0940,\n",
      "          0.5284, -0.4565,  0.0078,  0.2019, -0.4227,  0.2240, -0.0416, -0.2271,\n",
      "          0.1212,  0.2846,  0.1608,  0.9994, -0.1599,  0.1713,  0.0453, -0.1499,\n",
      "         -0.3036,  0.0932, -0.9999,  0.0656,  0.0483,  0.2180, -0.0547,  0.1452,\n",
      "          0.9993, -0.3855,  0.9990, -0.1814,  0.1848, -0.9741, -0.2543, -0.3599,\n",
      "          0.9993, -0.0645,  0.0893, -0.3064,  0.5449,  0.9973,  0.2142,  0.2201,\n",
      "          0.7750, -0.1518, -0.4040,  0.2065, -0.1812, -0.8215, -0.6682, -0.0249,\n",
      "          0.2015,  0.5255, -0.6134,  0.9997,  0.1495, -0.1094, -0.4406,  0.4066,\n",
      "         -0.3155, -0.9998,  0.6849, -0.4723, -0.2980,  0.2190, -0.2693,  0.3308,\n",
      "          0.1593, -0.4872,  0.0867,  0.9786, -0.2116, -0.9631,  0.4794,  0.2634,\n",
      "         -0.0820,  0.1713, -0.9999, -0.2893, -0.2268, -0.9995,  0.5935,  0.0411,\n",
      "         -0.9883, -0.1246, -0.2623,  0.2461, -0.2406, -0.0327, -0.0691, -0.1941,\n",
      "         -0.3231, -0.0342,  0.9799, -0.3241, -0.4906, -0.1406, -0.8911,  0.1326,\n",
      "         -0.0649,  0.4594,  0.1995, -0.6390,  0.2726,  0.0391, -0.0993,  0.2031,\n",
      "          0.2548, -0.1260, -0.4031, -0.3218,  0.2221, -0.9239, -0.5307, -0.1020,\n",
      "          0.0839, -0.0890, -0.0913, -0.2360, -0.2388,  0.0945, -0.1854, -0.0124,\n",
      "          0.2735, -0.2144, -0.1221,  0.1448,  0.4081, -0.1749, -0.9785, -0.2424,\n",
      "         -0.3286,  0.9893, -0.2978,  0.0545, -0.9993,  0.9608, -0.4015, -0.2760,\n",
      "         -0.0017,  0.1107,  0.2176, -0.6346,  0.1359,  0.3765,  0.3496, -0.8578,\n",
      "          0.3218, -0.2638,  0.4724,  0.9998,  0.0384,  0.4835, -0.0359,  0.3321,\n",
      "         -0.4080, -0.9687, -0.4049, -0.2404,  0.2280, -0.1353, -0.2476,  0.7799,\n",
      "         -0.4747,  0.4389, -0.1416,  0.3132,  0.3706,  0.2062, -0.2090, -0.2847,\n",
      "         -0.2985,  0.0191,  0.5114, -0.1107,  0.2303, -0.9840, -0.1441, -0.3769,\n",
      "          0.0664,  0.1790,  0.0917,  0.1832,  0.1429, -0.9999, -0.0924, -0.0892,\n",
      "         -0.8874, -0.9999,  0.3335,  0.2645,  0.4279,  0.3519, -0.5411, -0.0465,\n",
      "          0.0438, -0.9562,  0.3886, -0.4841, -0.4459,  0.2417, -0.9990,  0.9999,\n",
      "          0.1652,  0.2355,  0.0581, -0.3729,  0.4603,  0.9958, -0.2107,  0.9852,\n",
      "         -0.4382,  0.2611, -0.1247,  0.3441,  0.1949, -0.8457,  0.9189,  0.2063,\n",
      "         -0.5906,  0.2919,  0.9987,  0.2658,  0.1758,  0.9397,  0.2186, -0.2577,\n",
      "          0.3954, -0.8285, -0.5589, -0.0390, -0.0438, -0.1297,  0.3994, -0.9258,\n",
      "          0.8070,  0.9998,  0.0421, -0.8149,  0.4079, -0.4126, -0.0585,  0.0557,\n",
      "         -0.1657,  0.2321,  0.1914, -0.2129,  0.0566, -0.3396, -0.9643,  0.5129,\n",
      "         -0.9905, -0.0750,  0.1036, -0.9999,  0.3979, -0.3521,  0.0131, -0.2488,\n",
      "         -0.9503, -0.4691,  0.9999,  0.0071,  0.2643, -0.3159, -0.1569, -0.1050,\n",
      "         -0.2257,  0.4395,  0.9866,  0.0250,  0.3068, -0.9999,  0.1025,  0.3324,\n",
      "          0.3680, -0.2935, -0.1708, -0.0687,  0.0902, -0.9979, -0.0653, -0.3548,\n",
      "         -0.0025, -0.1129,  0.0865, -0.0138, -0.4222,  0.0381, -0.2172, -0.9892,\n",
      "         -0.1865,  0.3334, -0.3601,  0.9952,  0.3122,  0.5182, -0.9903,  0.0646,\n",
      "          0.9987, -0.2241,  0.9617, -0.3319, -0.2673, -1.0000, -0.5300,  0.2966,\n",
      "         -0.5918,  0.0907, -0.3914, -0.0170,  0.4578,  0.8573, -0.0537,  0.1112,\n",
      "         -0.4574,  0.9984, -0.4426,  0.3794, -0.7322, -0.3842, -0.8707,  0.0540,\n",
      "         -0.0459, -0.9770, -0.3177, -0.2388,  0.2671, -0.0377, -0.1217, -0.0344,\n",
      "         -0.0430,  0.7705,  0.5906, -0.0965, -0.9999, -0.4238,  0.0754,  0.0031,\n",
      "          0.1374, -0.1604,  0.2571, -0.1380, -0.8169,  0.0424, -0.8496, -0.9486,\n",
      "          0.9998, -0.4712,  0.1251, -0.3464,  0.2572, -0.1092, -0.4281, -0.3572,\n",
      "          0.1570,  0.6236,  0.4934, -0.3567,  0.3324,  0.1667,  0.2881, -0.1210,\n",
      "         -0.0052, -0.9511, -0.0675, -0.9828, -0.0888,  0.0477,  0.2755,  0.2862,\n",
      "         -0.0104,  0.9999,  0.4767,  0.9985,  0.5821, -0.8390, -0.2577, -0.3485,\n",
      "         -0.4676,  0.3372, -0.7660, -0.4233,  0.2717, -0.9934, -0.0838, -0.9753,\n",
      "         -0.1819,  0.0622, -0.1110, -0.1064,  0.9999,  0.2490, -0.1125, -0.0608,\n",
      "         -0.0974,  0.8748, -0.2276, -0.2011, -0.3183, -0.3697,  0.2867,  0.1939,\n",
      "         -0.2272, -0.0268,  0.8161, -0.3767,  0.0135,  0.0418,  0.1721,  0.0319,\n",
      "          0.1964, -0.1040, -0.4097,  0.3183, -0.4086, -0.9996,  0.8610,  0.9459,\n",
      "          0.2355, -0.0825,  0.1202,  0.3198, -0.1950,  0.3598, -1.0000, -0.2375,\n",
      "         -0.0841, -0.2366, -0.9494,  0.0991,  0.2702,  0.9981,  0.1660,  0.3475,\n",
      "          0.1486,  0.1151, -0.4251, -0.0845,  0.2892,  0.0386, -0.0043, -0.1714,\n",
      "          0.1221,  0.9963,  0.1436, -0.0965, -0.1617,  0.2209,  0.4757, -0.4188,\n",
      "          0.1983,  0.7842, -0.2501,  0.9936, -0.2257, -0.5050,  0.3033,  0.2998,\n",
      "          0.2481,  0.1745,  0.9796,  0.9655, -0.0587, -0.0654,  0.2236,  0.0988,\n",
      "          0.1220,  0.1010,  0.6959, -0.0572, -0.4730, -0.2987,  0.4410,  0.0441,\n",
      "          0.0569,  0.2781,  0.1314, -0.9987, -0.1715, -0.4451, -0.0056,  0.0197,\n",
      "          1.0000,  0.2488, -0.3358, -0.3446, -0.2529, -0.5153, -0.2846, -0.3887,\n",
      "         -0.2885, -0.2058, -0.0166, -0.2448, -0.1117, -0.9960,  0.4153,  0.4082,\n",
      "          0.0392, -0.5257,  0.3997, -0.8922, -0.9993,  0.1746, -0.1883,  0.4831,\n",
      "         -0.4727,  0.0959, -0.0774, -0.2919,  0.9740, -0.0956,  0.2375,  0.1742,\n",
      "         -0.3698,  0.1960,  0.0752,  0.3091, -0.9990,  0.3568,  0.2486, -0.1996,\n",
      "          0.3677, -0.0026,  0.4679, -0.9999,  0.1180,  0.4156, -0.2604,  0.1575,\n",
      "          0.2038,  0.3518, -0.3388,  0.4307, -0.1552,  0.0712,  0.0756, -0.5683]],\n",
      "       device='cuda:0'), hidden_states=None, past_key_values=None, attentions=None, cross_attentions=None)\n"
     ]
    }
   ],
   "source": [
    "inputs = {k: v.to(device) for k, v in inputs.items()}\n",
    "with torch.no_grad():\n",
    "    outputs = model(**inputs)\n",
    "print(outputs)"
   ]
  },
  {
   "cell_type": "markdown",
   "metadata": {},
   "source": [
    "ここでは、最後の隠れ層に注目しましょう。\n",
    "\n",
    "隠れ状態のテンソルを確認すると、```[batch_size, n_tokens, hidden_dim]```という形をしていることがわかります。\n",
    "\n",
    "今回の例では、$17$個の入力トークンのそれぞれに対して、$768$次元のベクトルが返されます。"
   ]
  },
  {
   "cell_type": "code",
   "execution_count": 21,
   "metadata": {},
   "outputs": [
    {
     "data": {
      "text/plain": [
       "torch.Size([1, 17, 768])"
      ]
     },
     "execution_count": 21,
     "metadata": {},
     "output_type": "execute_result"
    }
   ],
   "source": [
    "outputs.last_hidden_state.shape"
   ]
  },
  {
   "cell_type": "markdown",
   "metadata": {},
   "source": [
    "分類タスクの場合、入力特徴として```[CLS]```トークンに関連つけられた隠れ状態だけ使うのが一般です。\n",
    "\n",
    "このトークンは各系列の最初にいますので、次のようにインデックスを指定し、抽出することができます。\n",
    "\n",
    "```{margin}\n",
    "``[CLS]```トークンに関連付けられた隠れ状態は、入力シーケンス全体を通じての情報を集約することが期待されています。これは、Transformerの自己注意メカニズムの働きにより、[CLS]トークンがシーケンス内の他の全てのトークンとの関係を考慮することができるためです。\n",
    "```"
   ]
  },
  {
   "cell_type": "code",
   "execution_count": 22,
   "metadata": {},
   "outputs": [
    {
     "data": {
      "text/plain": [
       "torch.Size([1, 768])"
      ]
     },
     "execution_count": 22,
     "metadata": {},
     "output_type": "execute_result"
    }
   ],
   "source": [
    "outputs.last_hidden_state[:,0].shape"
   ]
  },
  {
   "cell_type": "markdown",
   "metadata": {},
   "source": [
    "最後の隠れ状態を取得する方法がわかりましたので、データ全体に対して処理を行うため、これまでのステップを関数でまとめます。\n",
    "\n",
    "そして、データ全体に適用し、すべてのテキストの隠れ状態を抽出します。"
   ]
  },
  {
   "cell_type": "code",
   "execution_count": 23,
   "metadata": {},
   "outputs": [],
   "source": [
    "def extract_hidden_states(batch):\n",
    "    # Place model inputs on the GPU\n",
    "    inputs = {k:v.to(device) for k,v in batch.items() \n",
    "              if k in tokenizer.model_input_names}\n",
    "    # Extract last hidden states\n",
    "    with torch.no_grad():\n",
    "        last_hidden_state = model(**inputs).last_hidden_state\n",
    "    # Return vector for [CLS] token\n",
    "    return {\"hidden_state\": last_hidden_state[:,0].cpu().numpy()}"
   ]
  },
  {
   "cell_type": "code",
   "execution_count": 24,
   "metadata": {},
   "outputs": [],
   "source": [
    "dataset_encoded.set_format(type=\"torch\", columns=[\"input_ids\", \"attention_mask\",\"label\"])"
   ]
  },
  {
   "cell_type": "code",
   "execution_count": 26,
   "metadata": {},
   "outputs": [],
   "source": [
    "dataset_hidden=dataset_encoded.map(extract_hidden_states, batched=True, batch_size=16)"
   ]
  },
  {
   "cell_type": "markdown",
   "metadata": {},
   "source": [
    "### 分類器の学習"
   ]
  },
  {
   "cell_type": "markdown",
   "metadata": {},
   "source": [
    "前処理されたデータセットには、分類器を学習させるために必要な情報がすべて含まれています。\n",
    "\n",
    "具体的には、隠れ状態を入力特徴量として、ラベルをターゲットとして使用します。これらの隠れ状態を使って、ロジスティック回帰モデルを学習します。"
   ]
  },
  {
   "cell_type": "code",
   "execution_count": 31,
   "metadata": {},
   "outputs": [
    {
     "data": {
      "text/plain": [
       "((12000, 768), (3000, 768))"
      ]
     },
     "execution_count": 31,
     "metadata": {},
     "output_type": "execute_result"
    }
   ],
   "source": [
    "import numpy as np\n",
    "\n",
    "X_train = np.array(dataset_hidden[\"train\"][\"hidden_state\"])\n",
    "X_valid = np.array(dataset_hidden[\"validation\"][\"hidden_state\"])\n",
    "y_train = np.array(dataset_hidden[\"train\"][\"label\"])\n",
    "y_valid = np.array(dataset_hidden[\"validation\"][\"label\"])\n",
    "X_train.shape, X_valid.shape"
   ]
  },
  {
   "cell_type": "code",
   "execution_count": 32,
   "metadata": {},
   "outputs": [
    {
     "data": {
      "text/html": [
       "<style>#sk-container-id-1 {color: black;}#sk-container-id-1 pre{padding: 0;}#sk-container-id-1 div.sk-toggleable {background-color: white;}#sk-container-id-1 label.sk-toggleable__label {cursor: pointer;display: block;width: 100%;margin-bottom: 0;padding: 0.3em;box-sizing: border-box;text-align: center;}#sk-container-id-1 label.sk-toggleable__label-arrow:before {content: \"▸\";float: left;margin-right: 0.25em;color: #696969;}#sk-container-id-1 label.sk-toggleable__label-arrow:hover:before {color: black;}#sk-container-id-1 div.sk-estimator:hover label.sk-toggleable__label-arrow:before {color: black;}#sk-container-id-1 div.sk-toggleable__content {max-height: 0;max-width: 0;overflow: hidden;text-align: left;background-color: #f0f8ff;}#sk-container-id-1 div.sk-toggleable__content pre {margin: 0.2em;color: black;border-radius: 0.25em;background-color: #f0f8ff;}#sk-container-id-1 input.sk-toggleable__control:checked~div.sk-toggleable__content {max-height: 200px;max-width: 100%;overflow: auto;}#sk-container-id-1 input.sk-toggleable__control:checked~label.sk-toggleable__label-arrow:before {content: \"▾\";}#sk-container-id-1 div.sk-estimator input.sk-toggleable__control:checked~label.sk-toggleable__label {background-color: #d4ebff;}#sk-container-id-1 div.sk-label input.sk-toggleable__control:checked~label.sk-toggleable__label {background-color: #d4ebff;}#sk-container-id-1 input.sk-hidden--visually {border: 0;clip: rect(1px 1px 1px 1px);clip: rect(1px, 1px, 1px, 1px);height: 1px;margin: -1px;overflow: hidden;padding: 0;position: absolute;width: 1px;}#sk-container-id-1 div.sk-estimator {font-family: monospace;background-color: #f0f8ff;border: 1px dotted black;border-radius: 0.25em;box-sizing: border-box;margin-bottom: 0.5em;}#sk-container-id-1 div.sk-estimator:hover {background-color: #d4ebff;}#sk-container-id-1 div.sk-parallel-item::after {content: \"\";width: 100%;border-bottom: 1px solid gray;flex-grow: 1;}#sk-container-id-1 div.sk-label:hover label.sk-toggleable__label {background-color: #d4ebff;}#sk-container-id-1 div.sk-serial::before {content: \"\";position: absolute;border-left: 1px solid gray;box-sizing: border-box;top: 0;bottom: 0;left: 50%;z-index: 0;}#sk-container-id-1 div.sk-serial {display: flex;flex-direction: column;align-items: center;background-color: white;padding-right: 0.2em;padding-left: 0.2em;position: relative;}#sk-container-id-1 div.sk-item {position: relative;z-index: 1;}#sk-container-id-1 div.sk-parallel {display: flex;align-items: stretch;justify-content: center;background-color: white;position: relative;}#sk-container-id-1 div.sk-item::before, #sk-container-id-1 div.sk-parallel-item::before {content: \"\";position: absolute;border-left: 1px solid gray;box-sizing: border-box;top: 0;bottom: 0;left: 50%;z-index: -1;}#sk-container-id-1 div.sk-parallel-item {display: flex;flex-direction: column;z-index: 1;position: relative;background-color: white;}#sk-container-id-1 div.sk-parallel-item:first-child::after {align-self: flex-end;width: 50%;}#sk-container-id-1 div.sk-parallel-item:last-child::after {align-self: flex-start;width: 50%;}#sk-container-id-1 div.sk-parallel-item:only-child::after {width: 0;}#sk-container-id-1 div.sk-dashed-wrapped {border: 1px dashed gray;margin: 0 0.4em 0.5em 0.4em;box-sizing: border-box;padding-bottom: 0.4em;background-color: white;}#sk-container-id-1 div.sk-label label {font-family: monospace;font-weight: bold;display: inline-block;line-height: 1.2em;}#sk-container-id-1 div.sk-label-container {text-align: center;}#sk-container-id-1 div.sk-container {/* jupyter's `normalize.less` sets `[hidden] { display: none; }` but bootstrap.min.css set `[hidden] { display: none !important; }` so we also need the `!important` here to be able to override the default hidden behavior on the sphinx rendered scikit-learn.org. See: https://github.com/scikit-learn/scikit-learn/issues/21755 */display: inline-block !important;position: relative;}#sk-container-id-1 div.sk-text-repr-fallback {display: none;}</style><div id=\"sk-container-id-1\" class=\"sk-top-container\"><div class=\"sk-text-repr-fallback\"><pre>LogisticRegression(max_iter=3000)</pre><b>In a Jupyter environment, please rerun this cell to show the HTML representation or trust the notebook. <br />On GitHub, the HTML representation is unable to render, please try loading this page with nbviewer.org.</b></div><div class=\"sk-container\" hidden><div class=\"sk-item\"><div class=\"sk-estimator sk-toggleable\"><input class=\"sk-toggleable__control sk-hidden--visually\" id=\"sk-estimator-id-1\" type=\"checkbox\" checked><label for=\"sk-estimator-id-1\" class=\"sk-toggleable__label sk-toggleable__label-arrow\">LogisticRegression</label><div class=\"sk-toggleable__content\"><pre>LogisticRegression(max_iter=3000)</pre></div></div></div></div></div>"
      ],
      "text/plain": [
       "LogisticRegression(max_iter=3000)"
      ]
     },
     "execution_count": 32,
     "metadata": {},
     "output_type": "execute_result"
    }
   ],
   "source": [
    "from sklearn.linear_model import LogisticRegression\n",
    "\n",
    "lr_clf = LogisticRegression(max_iter=3000)\n",
    "lr_clf.fit(X_train, y_train)"
   ]
  },
  {
   "cell_type": "code",
   "execution_count": 33,
   "metadata": {},
   "outputs": [
    {
     "data": {
      "text/plain": [
       "0.745"
      ]
     },
     "execution_count": 33,
     "metadata": {},
     "output_type": "execute_result"
    }
   ],
   "source": [
    "lr_clf.score(X_valid, y_valid)"
   ]
  },
  {
   "cell_type": "code",
   "execution_count": 36,
   "metadata": {},
   "outputs": [
    {
     "data": {
      "image/png": "[encoded data removed]",
      "text/plain": [
       "<Figure size 600x600 with 1 Axes>"
      ]
     },
     "metadata": {},
     "output_type": "display_data"
    }
   ],
   "source": [
    "from sklearn.metrics import ConfusionMatrixDisplay, confusion_matrix\n",
    "\n",
    "def plot_confusion_matrix(y_preds, y_true, labels):\n",
    "    cm = confusion_matrix(y_true, y_preds, normalize=\"true\")\n",
    "    fig, ax = plt.subplots(figsize=(6, 6))\n",
    "    disp = ConfusionMatrixDisplay(confusion_matrix=cm, display_labels=labels)\n",
    "    disp.plot(cmap=\"Blues\", values_format=\".2f\", ax=ax, colorbar=False)\n",
    "    plt.title(\"Normalized confusion matrix\")\n",
    "    plt.show()\n",
    "    \n",
    "y_preds = lr_clf.predict(X_valid)\n",
    "plot_confusion_matrix(y_preds, y_valid, [\"positive\",\"neutral\",\"negative\"])"
   ]
  },
  {
   "cell_type": "markdown",
   "metadata": {},
   "source": [
    "### Transformerのファインチューニング\n",
    "\n",
    "transformerライブラリは、ファインチューニングのタスクに応じてAPIを提供しています。\n",
    "\n",
    "分類タスクの場合、```AutoModel```の代わりに```AutoModelForSequenceClassification```を使用します。\n",
    "\n",
    "```AutoModelForSequenceClassification```が事前学習済みモデルの出力の上に分類器ヘッドを持っており、モデルの設定がより簡単になります。"
   ]
  },
  {
   "cell_type": "code",
   "execution_count": 27,
   "metadata": {},
   "outputs": [
    {
     "name": "stderr",
     "output_type": "stream",
     "text": [
      "Some weights of BertForSequenceClassification were not initialized from the model checkpoint at cl-tohoku/bert-base-japanese-whole-word-masking and are newly initialized: ['classifier.weight', 'classifier.bias']\n",
      "You should probably TRAIN this model on a down-stream task to be able to use it for predictions and inference.\n"
     ]
    }
   ],
   "source": [
    "from transformers import AutoModelForSequenceClassification\n",
    "\n",
    "device = torch.device(\"cuda\" if torch.cuda.is_available() else \"cpu\")\n",
    "num_labels = 3\n",
    "\n",
    "model = (AutoModelForSequenceClassification\n",
    "    .from_pretrained(model_ckpt, num_labels=num_labels)\n",
    "    .to(device))"
   ]
  },
  {
   "cell_type": "code",
   "execution_count": 32,
   "metadata": {},
   "outputs": [
    {
     "name": "stdout",
     "output_type": "stream",
     "text": [
      "SequenceClassifierOutput(loss=None, logits=tensor([[-0.2150,  0.8152,  0.0885]], device='cuda:0'), hidden_states=None, attentions=None)\n"
     ]
    }
   ],
   "source": [
    "inputs = tokenizer(\"普段使いとバイクに乗るときのブーツ兼用として購入しました\", return_tensors=\"pt\") # pytorch tensorに変換するためにreturn_tensors=\"pt\"を指定\n",
    "inputs = {k: v.to(device) for k, v in inputs.items()}\n",
    "with torch.no_grad():\n",
    "    outputs = model(**inputs)\n",
    "print(outputs)"
   ]
  },
  {
   "cell_type": "markdown",
   "metadata": {},
   "source": [
    "### 学習の準備\n",
    "\n",
    "学習時に性能指標を与える必要があるため、それを関数化して定義しておきます。"
   ]
  },
  {
   "cell_type": "code",
   "execution_count": 37,
   "metadata": {},
   "outputs": [],
   "source": [
    "from sklearn.metrics import accuracy_score, f1_score\n",
    "\n",
    "def compute_metrics(pred):\n",
    "    labels = pred.label_ids\n",
    "    preds = pred.predictions.argmax(-1)\n",
    "    f1 = f1_score(labels, preds, average=\"weighted\")\n",
    "    acc = accuracy_score(labels, preds)\n",
    "    return {\"accuracy\": acc, \"f1\": f1}"
   ]
  },
  {
   "cell_type": "markdown",
   "metadata": {},
   "source": [
    "学習ループを単純化するために、transformerライブラリの```Trainer``` APIを使用します。\n",
    "\n",
    "```Trainer```クラスを初期化する際には、```TrainingArguments```という訓練に関する様々な設定値の集合を引数に与えることで、訓練の設定に関する細かい調整が可能です。"
   ]
  },
  {
   "cell_type": "code",
   "execution_count": 38,
   "metadata": {},
   "outputs": [],
   "source": [
    "from transformers import TrainingArguments\n",
    "\n",
    "batch_size = 16\n",
    "logging_steps = len(dataset_encoded[\"train\"]) // batch_size\n",
    "model_name = \"sample-text-classification-bert\"\n",
    "\n",
    "training_args = TrainingArguments(\n",
    "    output_dir=model_name,\n",
    "    num_train_epochs=2,\n",
    "    learning_rate=2e-5,\n",
    "    per_device_train_batch_size=batch_size,\n",
    "    per_device_eval_batch_size=batch_size,\n",
    "    weight_decay=0.01,\n",
    "    evaluation_strategy=\"epoch\",\n",
    "    disable_tqdm=False,\n",
    "    logging_steps=logging_steps,\n",
    "    push_to_hub=False,\n",
    "    log_level=\"error\"\n",
    ")"
   ]
  },
  {
   "cell_type": "markdown",
   "metadata": {},
   "source": [
    "Trainerクラスで実行します。\n",
    "\n",
    "結果を確認すると、特徴ベースのアプローチよりも精度が改善されることがわかります。"
   ]
  },
  {
   "cell_type": "code",
   "execution_count": 40,
   "metadata": {},
   "outputs": [
    {
     "data": {
      "text/html": [
       "\n",
       "    <div>\n",
       "      \n",
       "      <progress value='1500' max='1500' style='width:300px; height:20px; vertical-align: middle;'></progress>\n",
       "      [1500/1500 10:03, Epoch 2/2]\n",
       "    </div>\n",
       "    <table border=\"1\" class=\"dataframe\">\n",
       "  <thead>\n",
       " <tr style=\"text-align: left;\">\n",
       "      <th>Epoch</th>\n",
       "      <th>Training Loss</th>\n",
       "      <th>Validation Loss</th>\n",
       "      <th>Accuracy</th>\n",
       "      <th>F1</th>\n",
       "    </tr>\n",
       "  </thead>\n",
       "  <tbody>\n",
       "    <tr>\n",
       "      <td>1</td>\n",
       "      <td>0.592500</td>\n",
       "      <td>0.480344</td>\n",
       "      <td>0.805667</td>\n",
       "      <td>0.802639</td>\n",
       "    </tr>\n",
       "    <tr>\n",
       "      <td>2</td>\n",
       "      <td>0.391400</td>\n",
       "      <td>0.500137</td>\n",
       "      <td>0.813000</td>\n",
       "      <td>0.811704</td>\n",
       "    </tr>\n",
       "  </tbody>\n",
       "</table><p>"
      ],
      "text/plain": [
       "<IPython.core.display.HTML object>"
      ]
     },
     "metadata": {},
     "output_type": "display_data"
    },
    {
     "data": {
      "text/plain": [
       "TrainOutput(global_step=1500, training_loss=0.4919612833658854, metrics={'train_runtime': 604.2412, 'train_samples_per_second': 39.719, 'train_steps_per_second': 2.482, 'total_flos': 6314722025472000.0, 'train_loss': 0.4919612833658854, 'epoch': 2.0})"
      ]
     },
     "execution_count": 40,
     "metadata": {},
     "output_type": "execute_result"
    }
   ],
   "source": [
    "from transformers import Trainer\n",
    "\n",
    "trainer = Trainer(\n",
    "    model=model,\n",
    "    args=training_args,\n",
    "    compute_metrics=compute_metrics,\n",
    "    train_dataset=dataset_encoded[\"train\"],\n",
    "    eval_dataset=dataset_encoded[\"validation\"],\n",
    "    tokenizer=tokenizer\n",
    ")\n",
    "trainer.train()"
   ]
  },
  {
   "cell_type": "markdown",
   "metadata": {},
   "source": [
    "### モデル精度の検証 \n",
    "\n",
    "学習済みのモデルを他のデータセットに適用します。"
   ]
  },
  {
   "cell_type": "code",
   "execution_count": 42,
   "metadata": {},
   "outputs": [
    {
     "data": {
      "text/html": [],
      "text/plain": [
       "<IPython.core.display.HTML object>"
      ]
     },
     "metadata": {},
     "output_type": "display_data"
    }
   ],
   "source": [
    "preds_output = trainer.predict(dataset_encoded[\"validation\"])"
   ]
  },
  {
   "cell_type": "markdown",
   "metadata": {},
   "source": [
    "混同行列でモデルの精度を検証します。"
   ]
  },
  {
   "cell_type": "code",
   "execution_count": 43,
   "metadata": {},
   "outputs": [
    {
     "data": {
      "image/png": "[encoded data removed]",
      "text/plain": [
       "<Figure size 600x600 with 1 Axes>"
      ]
     },
     "metadata": {},
     "output_type": "display_data"
    }
   ],
   "source": [
    "import numpy as np\n",
    "import matplotlib.pyplot as plt\n",
    "from sklearn.metrics import ConfusionMatrixDisplay, confusion_matrix\n",
    "\n",
    "y_preds = np.argmax(preds_output.predictions, axis=1)\n",
    "y_valid = np.array(dataset_encoded[\"validation\"][\"label\"])\n",
    "labels = dataset_encoded[\"train\"].features[\"label\"].names\n",
    "\n",
    "def plot_confusion_matrix(y_preds, y_true, labels):\n",
    "    cm = confusion_matrix(y_true, y_preds, normalize=\"true\")\n",
    "    fig, ax = plt.subplots(figsize=(6, 6))\n",
    "    disp = ConfusionMatrixDisplay(confusion_matrix=cm, display_labels=labels)\n",
    "    disp.plot(cmap=\"Blues\", values_format=\".2f\", ax=ax, colorbar=False)\n",
    "    plt.title(\"Normalized confusion matrix\")\n",
    "    plt.show()\n",
    "\n",
    "plot_confusion_matrix(y_preds, y_valid, labels)"
   ]
  },
  {
   "cell_type": "markdown",
   "metadata": {},
   "source": [
    "### モデル保存"
   ]
  },
  {
   "cell_type": "code",
   "execution_count": null,
   "metadata": {},
   "outputs": [],
   "source": [
    "id2label = {}\n",
    "for i in range(dataset[\"train\"].features[\"label\"].num_classes):\n",
    "    id2label[i] = dataset[\"train\"].features[\"label\"].int2str(i)\n",
    "\n",
    "label2id = {}\n",
    "for i in range(dataset[\"train\"].features[\"label\"].num_classes):\n",
    "    label2id[dataset[\"train\"].features[\"label\"].int2str(i)] = i\n",
    "\n",
    "trainer.model.config.id2label = id2label\n",
    "trainer.model.config.label2id = label2id"
   ]
  },
  {
   "cell_type": "code",
   "execution_count": 44,
   "metadata": {},
   "outputs": [],
   "source": [
    "trainer.save_model(f\"./Data/sample-text-classification-bert\")"
   ]
  },
  {
   "cell_type": "markdown",
   "metadata": {},
   "source": [
    "### 学習済みモデルの読み込み"
   ]
  },
  {
   "cell_type": "code",
   "execution_count": 33,
   "metadata": {},
   "outputs": [],
   "source": [
    "new_tokenizer = AutoTokenizer\\\n",
    "    .from_pretrained(f\"./Data/sample-text-classification-bert\")\n",
    "\n",
    "new_model = (AutoModelForSequenceClassification\n",
    "    .from_pretrained(f\"./Data/sample-text-classification-bert\")\n",
    "    .to(device))"
   ]
  },
  {
   "cell_type": "markdown",
   "metadata": {},
   "source": [
    "サンプルテキストで推論の結果を確認します。"
   ]
  },
  {
   "cell_type": "code",
   "execution_count": 42,
   "metadata": {},
   "outputs": [],
   "source": [
    "text1=\"使い物にならない\"\n",
    "text2=\"とても気に入った\""
   ]
  },
  {
   "cell_type": "code",
   "execution_count": 43,
   "metadata": {},
   "outputs": [
    {
     "data": {
      "text/plain": [
       "array([2])"
      ]
     },
     "execution_count": 43,
     "metadata": {},
     "output_type": "execute_result"
    }
   ],
   "source": [
    "import numpy as np\n",
    "\n",
    "inputs = new_tokenizer(text1, return_tensors=\"pt\")\n",
    "\n",
    "new_model.eval()\n",
    "\n",
    "with torch.no_grad():\n",
    "    outputs = new_model(\n",
    "        inputs[\"input_ids\"].to(device), \n",
    "        inputs[\"attention_mask\"].to(device),\n",
    "    )\n",
    "outputs.logits\n",
    "\n",
    "y_preds = np.argmax(outputs.logits.to('cpu').detach().numpy().copy(), axis=1)\n",
    "y_preds"
   ]
  },
  {
   "cell_type": "code",
   "execution_count": 44,
   "metadata": {},
   "outputs": [
    {
     "data": {
      "text/plain": [
       "array([0])"
      ]
     },
     "execution_count": 44,
     "metadata": {},
     "output_type": "execute_result"
    }
   ],
   "source": [
    "inputs = new_tokenizer(text2, return_tensors=\"pt\")\n",
    "\n",
    "new_model.eval()\n",
    "\n",
    "with torch.no_grad():\n",
    "    outputs = new_model(\n",
    "        inputs[\"input_ids\"].to(device), \n",
    "        inputs[\"attention_mask\"].to(device),\n",
    "    )\n",
    "outputs.logits\n",
    "\n",
    "y_preds = np.argmax(outputs.logits.to('cpu').detach().numpy().copy(), axis=1)\n",
    "y_preds"
   ]
  },
  {
   "cell_type": "code",
   "execution_count": null,
   "metadata": {},
   "outputs": [],
   "source": []
  }
 ],
 "metadata": {
  "kernelspec": {
   "display_name": "base",
   "language": "python",
   "name": "python3"
  },
  "language_info": {
   "codemirror_mode": {
    "name": "ipython",
    "version": 3
   },
   "file_extension": ".py",
   "mimetype": "text/x-python",
   "name": "python",
   "nbconvert_exporter": "python",
   "pygments_lexer": "ipython3",
   "version": "3.10.13"
  },
  "orig_nbformat": 4
 },
 "nbformat": 4,
 "nbformat_minor": 2
}
